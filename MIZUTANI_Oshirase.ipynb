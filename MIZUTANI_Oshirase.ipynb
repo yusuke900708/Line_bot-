{
 "cells": [
  {
   "cell_type": "code",
   "execution_count": 3,
   "metadata": {},
   "outputs": [
    {
     "output_type": "stream",
     "name": "stdout",
     "text": "['2020-06-17'] (['今日'])\n['晴のち曇']\n['null'] ['null']\n"
    },
    {
     "output_type": "error",
     "ename": "IndexError",
     "evalue": "list index out of range",
     "traceback": [
      "\u001b[0;31m---------------------------------------------------------------------------\u001b[0m",
      "\u001b[0;31mIndexError\u001b[0m                                Traceback (most recent call last)",
      "\u001b[0;32m<ipython-input-3-62a08216b779>\u001b[0m in \u001b[0;36m<module>\u001b[0;34m\u001b[0m\n\u001b[1;32m     89\u001b[0m \u001b[0;31m#maiin\u001b[0m\u001b[0;34m\u001b[0m\u001b[0;34m\u001b[0m\u001b[0;34m\u001b[0m\u001b[0m\n\u001b[1;32m     90\u001b[0m \u001b[0;31m# 毎日22時00分に実行\u001b[0m\u001b[0;34m\u001b[0m\u001b[0;34m\u001b[0m\u001b[0;34m\u001b[0m\u001b[0m\n\u001b[0;32m---> 91\u001b[0;31m \u001b[0mschedule\u001b[0m\u001b[0;34m.\u001b[0m\u001b[0mevery\u001b[0m\u001b[0;34m(\u001b[0m\u001b[0;34m)\u001b[0m\u001b[0;34m.\u001b[0m\u001b[0mday\u001b[0m\u001b[0;34m.\u001b[0m\u001b[0mat\u001b[0m\u001b[0;34m(\u001b[0m\u001b[0;34m\"22:30\"\u001b[0m\u001b[0;34m)\u001b[0m\u001b[0;34m.\u001b[0m\u001b[0mdo\u001b[0m\u001b[0;34m(\u001b[0m\u001b[0mLINE1\u001b[0m\u001b[0;34m(\u001b[0m\u001b[0;34m)\u001b[0m\u001b[0;34m)\u001b[0m\u001b[0;34m\u001b[0m\u001b[0;34m\u001b[0m\u001b[0m\n\u001b[0m\u001b[1;32m     92\u001b[0m \u001b[0mschedule\u001b[0m\u001b[0;34m.\u001b[0m\u001b[0mevery\u001b[0m\u001b[0;34m(\u001b[0m\u001b[0;34m)\u001b[0m\u001b[0;34m.\u001b[0m\u001b[0mday\u001b[0m\u001b[0;34m.\u001b[0m\u001b[0mat\u001b[0m\u001b[0;34m(\u001b[0m\u001b[0;34m\"22:30\"\u001b[0m\u001b[0;34m)\u001b[0m\u001b[0;34m.\u001b[0m\u001b[0mdo\u001b[0m\u001b[0;34m(\u001b[0m\u001b[0mLINE2\u001b[0m\u001b[0;34m(\u001b[0m\u001b[0;34m)\u001b[0m\u001b[0;34m)\u001b[0m\u001b[0;34m\u001b[0m\u001b[0;34m\u001b[0m\u001b[0m\n\u001b[1;32m     93\u001b[0m \u001b[0;34m\u001b[0m\u001b[0m\n",
      "\u001b[0;32m<ipython-input-3-62a08216b779>\u001b[0m in \u001b[0;36mLINE1\u001b[0;34m()\u001b[0m\n\u001b[1;32m     74\u001b[0m \u001b[0;32mdef\u001b[0m \u001b[0mLINE1\u001b[0m\u001b[0;34m(\u001b[0m\u001b[0;34m)\u001b[0m\u001b[0;34m:\u001b[0m\u001b[0;31m#LINE  message_tenki\u001b[0m\u001b[0;34m\u001b[0m\u001b[0;34m\u001b[0m\u001b[0m\n\u001b[1;32m     75\u001b[0m     \u001b[0mLINE_tenki\u001b[0m\u001b[0;34m=\u001b[0m\u001b[0mLINE_notify\u001b[0m\u001b[0;34m(\u001b[0m\u001b[0maccess_token\u001b[0m\u001b[0;34m=\u001b[0m\u001b[0maccess_token_tenki\u001b[0m\u001b[0;34m)\u001b[0m\u001b[0;34m\u001b[0m\u001b[0;34m\u001b[0m\u001b[0m\n\u001b[0;32m---> 76\u001b[0;31m     \u001b[0mmessage1\u001b[0m\u001b[0;34m=\u001b[0m\u001b[0mforecast_API\u001b[0m\u001b[0;34m(\u001b[0m\u001b[0;34m)\u001b[0m\u001b[0;34m\u001b[0m\u001b[0;34m\u001b[0m\u001b[0m\n\u001b[0m\u001b[1;32m     77\u001b[0m     \u001b[0;32mif\u001b[0m  \u001b[0;34m\"雨\"\u001b[0m \u001b[0;32min\u001b[0m \u001b[0mtelop\u001b[0m\u001b[0;34m[\u001b[0m\u001b[0;36m1\u001b[0m\u001b[0;34m]\u001b[0m\u001b[0;34m:\u001b[0m \u001b[0;31m#特定の文字列が含まれるか  $$ in &&\u001b[0m\u001b[0;34m\u001b[0m\u001b[0;34m\u001b[0m\u001b[0m\n\u001b[1;32m     78\u001b[0m         \u001b[0mmessage1\u001b[0m\u001b[0;34m=\u001b[0m \u001b[0mmessage1\u001b[0m\u001b[0;34m+\u001b[0m\u001b[0;34m'\\n'\u001b[0m\u001b[0;34m+\u001b[0m\u001b[0;34m\"********************************\"\u001b[0m\u001b[0;34m\u001b[0m\u001b[0;34m\u001b[0m\u001b[0m\n",
      "\u001b[0;32m<ipython-input-3-62a08216b779>\u001b[0m in \u001b[0;36mforecast_API\u001b[0;34m()\u001b[0m\n\u001b[1;32m     69\u001b[0m             \u001b[0mtem_min\u001b[0m\u001b[0;34m.\u001b[0m\u001b[0mappend\u001b[0m\u001b[0;34m(\u001b[0m \u001b[0;34m\"null\"\u001b[0m\u001b[0;34m)\u001b[0m\u001b[0;34m\u001b[0m\u001b[0;34m\u001b[0m\u001b[0m\n\u001b[1;32m     70\u001b[0m         \u001b[0mprint\u001b[0m\u001b[0;34m(\u001b[0m\u001b[0mtem_max\u001b[0m\u001b[0;34m,\u001b[0m\u001b[0mtem_min\u001b[0m\u001b[0;34m)\u001b[0m\u001b[0;34m\u001b[0m\u001b[0;34m\u001b[0m\u001b[0m\n\u001b[0;32m---> 71\u001b[0;31m         \u001b[0mmessage\u001b[0m\u001b[0;34m=\u001b[0m\u001b[0;34m'\\n{0}\\n{1}\\n{2}\\n{3}\\n{4}\\n{5}'\u001b[0m\u001b[0;34m.\u001b[0m\u001b[0mformat\u001b[0m\u001b[0;34m(\u001b[0m\u001b[0mtitile\u001b[0m\u001b[0;34m,\u001b[0m\u001b[0mdate\u001b[0m\u001b[0;34m[\u001b[0m\u001b[0;36m1\u001b[0m\u001b[0;34m]\u001b[0m\u001b[0;34m,\u001b[0m\u001b[0mdateLabel\u001b[0m\u001b[0;34m[\u001b[0m\u001b[0;36m1\u001b[0m\u001b[0;34m]\u001b[0m\u001b[0;34m,\u001b[0m\u001b[0mtelop\u001b[0m\u001b[0;34m[\u001b[0m\u001b[0;36m1\u001b[0m\u001b[0;34m]\u001b[0m\u001b[0;34m,\u001b[0m\u001b[0mtem_max\u001b[0m\u001b[0;34m[\u001b[0m\u001b[0;36m1\u001b[0m\u001b[0;34m]\u001b[0m\u001b[0;34m,\u001b[0m\u001b[0mtem_min\u001b[0m\u001b[0;34m[\u001b[0m\u001b[0;36m1\u001b[0m\u001b[0;34m]\u001b[0m\u001b[0;34m)\u001b[0m\u001b[0;34m\u001b[0m\u001b[0;34m\u001b[0m\u001b[0m\n\u001b[0m\u001b[1;32m     72\u001b[0m         \u001b[0;32mreturn\u001b[0m \u001b[0mmessage\u001b[0m\u001b[0;34m\u001b[0m\u001b[0;34m\u001b[0m\u001b[0m\n\u001b[1;32m     73\u001b[0m \u001b[0;34m\u001b[0m\u001b[0m\n",
      "\u001b[0;31mIndexError\u001b[0m: list index out of range"
     ]
    }
   ],
   "source": [
    "import requests\n",
    "import json  \n",
    "import datetime\n",
    "import locale\n",
    "import schedule\n",
    "import time\n",
    "import jupyter\n",
    "\n",
    "#LINE notify へのアクセス\n",
    "\n",
    "#test用\n",
    "access_token = 'BC9YMpFXnczc8SGjiC00WibBPj5ArfBz8hY3ENw8nVi'\n",
    "#水谷さんのお知らせ（お天気様）\n",
    "access_token_tenki = 'Cm5Odan247i43KiPTsTn5TD7S5uQg46utH7LHrOZZNB'\n",
    "#水谷さんのお知らせ（ゴミ捨て）\n",
    "access_token_gomi = 'zLNJh9UPDk9nk1C1eX51OKEnEgnXHoKhOjwjQicLjGP'\n",
    "\n",
    "class LINE_notify: \n",
    "    API_url = 'https://notify-api.line.me/api/notify'\n",
    "    def __init__(self, access_token):\n",
    "        self.__headers = {'Authorization': 'Bearer ' + access_token}\n",
    "        \n",
    "    def  sent(self,message):\n",
    "        payload = {'message': message}\n",
    "        r = requests.post(LINE_notify.API_url, headers=self.__headers, params=payload)\n",
    "\n",
    "def GOMISUTE(): \n",
    "    locale.setlocale(locale.LC_TIME, 'ja_JP.UTF-8')\n",
    "    dt_now = datetime.datetime.now()\n",
    "    w_list = ['月曜日', '火曜日', '水曜日', '木曜日', '金曜日', '土曜日', '日曜日']\n",
    "    wd =  dt_now.weekday()\n",
    "    if  wd==2 or wd==6 :\n",
    "        message = '明日は{0}の可燃ゴミの日です。ゴミ捨てを忘れずに！' .format(w_list[wd+1])\n",
    "    elif wd ==1:\n",
    "        message = '明日は{0}の資源ゴミの日です。プラ類，紙包装類，ペットボトル，ビン，缶を捨てるの忘れないようにしよう！'.format(w_list[wd+1])\n",
    "    elif wd ==4:\n",
    "        message = '明日は{0}です。第２{0}はダンボールを捨てる日です。捨てるときは7:50まで忘れずに捨てよう！'.format(w_list[wd+1])\n",
    "    return message\n",
    "\n",
    "def forecast_API(): \n",
    "    #livedoor tenki_APIのデータ取得\n",
    "    base_url= 'http://weather.livedoor.com/forecast/webservice/json/v1'\n",
    "    payload = {'city': '230010'}#愛知県の天気\n",
    "    response = requests.get(base_url, params=payload )  # ベースURL + クエリでGET\n",
    "    json_data = json.loads(response.content)  # json_dataにレスポンスを辞書型で代入\n",
    "    tenki_data = requests.get(base_url, params=payload).json()\n",
    "    titile=format(json_data['title'])\n",
    "\n",
    "    #\n",
    "    date=[]\n",
    "    dateLabel=[]\n",
    "    telop=[]\n",
    "    tem_max=[]\n",
    "    tem_min=[]\n",
    "\n",
    "    for forecast in json_data['forecasts']:  # 'forecasts'内は配列になっているのでループ処理\n",
    "        date.append(forecast['date'])  # 予報日(yyyy-mm-dd)\n",
    "        dateLabel.append( forecast['dateLabel']) # 予報日\n",
    "        print('{0} ({1})'.format(date, dateLabel))  # 予報日の表示\n",
    "        telop.append(forecast['telop'])\n",
    "        print('{0}'.format(telop)) \n",
    "        t_max = forecast['temperature'].get('max')  # 'max'の値がnullの場合があるのでgetメソッド\n",
    "        t_min = forecast['temperature'].get('min')  # 'min'の値がnullの場合があるのでgetメソッド\n",
    "        if t_max is not None and t_min is not None:  # 'max', 'min'の値がNoneじゃなかった場合の処理\n",
    "            tem_max.append('最高気温{0}℃'.format(t_max['celsius']))\n",
    "            tem_min.append( '最低気温{0}℃'.format(t_min['celsius']))\n",
    "        else:\n",
    "            tem_max.append(\"null\")\n",
    "            tem_min.append( \"null\")\n",
    "        print(tem_max,tem_min)\n",
    "        message='\\n{0}\\n{1}\\n{2}\\n{3}\\n{4}\\n{5}'.format(titile,date[1],dateLabel[1],telop[1],tem_max[1],tem_min[1])\n",
    "    return message\n",
    "\n",
    "def LINE1():#LINE  message_tenki\n",
    "    LINE_tenki=LINE_notify(access_token=access_token_tenki)\n",
    "    message1=forecast_API()\n",
    "    if  \"雨\" in message1: #特定の文字列が含まれるか  $$ in &&\n",
    "        message1= message1+'\\n'+\"********************************\"\n",
    "        message1= message1+'\\n'+\"明日は雨予報です。傘を忘れずに！\"\n",
    "        message1= message1+'\\n'+\"********************************\"\n",
    "    LINE_tenki.sent(message1)\n",
    "\n",
    "def LINE2():\n",
    "    #LINE_message_gomisute\n",
    "    LINE_gomi=LINE_notify(access_token=access_token_gomi)\n",
    "    message2='\\n'+GOMISUTE()\n",
    "    LINE_gomi.sent(message2)\n",
    "\n",
    "#maiin    \n",
    "# 毎日22時00分に実行\n",
    "schedule.every().day.at(\"22:30\").do(LINE1())\n",
    "schedule.every().day.at(\"22:30\").do(LINE2())\n",
    "\n",
    "while True:\n",
    "    schedule.run_pending()\n",
    "    time.sleep(1)"
   ]
  },
  {
   "cell_type": "code",
   "execution_count": 2,
   "metadata": {
    "scrolled": false
   },
   "outputs": [],
   "source": [
    "#LINE notify へのアクセス\n",
    "\n",
    "#test用\n",
    "access_token = 'BC9YMpFXnczc8SGjiC00WibBPj5ArfBz8hY3ENw8nVi'\n",
    "#水谷さんのお知らせ（お天気様）\n",
    "access_token_tenki = 'Cm5Odan247i43KiPTsTn5TD7S5uQg46utH7LHrOZZNB'\n",
    "#水谷さんのお知らせ（ゴミ捨て）\n",
    "access_token_gomi = 'zLNJh9UPDk9nk1C1eX51OKEnEgnXHoKhOjwjQicLjGP'\n",
    "\n",
    "class LINE_notify: \n",
    "    API_url = 'https://notify-api.line.me/api/notify'\n",
    "    def __init__(self, access_token):\n",
    "        self.__headers = {'Authorization': 'Bearer ' + access_token}\n",
    "        \n",
    "    def  sent(self,message):\n",
    "        payload = {'message': message}\n",
    "        r = requests.post(LINE_notify.API_url, headers=self.__headers, params=payload)"
   ]
  },
  {
   "cell_type": "code",
   "execution_count": 3,
   "metadata": {},
   "outputs": [],
   "source": [
    "def GOMISUTE(): \n",
    "    locale.setlocale(locale.LC_TIME, 'ja_JP.UTF-8')\n",
    "    dt_now = datetime.datetime.now()\n",
    "    w_list = ['月曜日', '火曜日', '水曜日', '木曜日', '金曜日', '土曜日', '日曜日']\n",
    "    wd =  dt_now.weekday()\n",
    "    if  wd==2 or wd==6 :\n",
    "        message = '明日は{0}の可燃ゴミの日です。ゴミ捨てを忘れずに！' .format(w_list[wd+1])\n",
    "    elif wd ==1:\n",
    "        message = '明日は{0}の資源ゴミの日です。プラ類，紙包装類，ペットボトル，ビン，缶を捨てるの忘れないようにしよう！'.format(w_list[wd+1])\n",
    "    elif wd ==4:\n",
    "        message = '明日は{0}です。第２{0}はダンボールを捨てる日です。捨てるときは7:50まで忘れずに捨てよう！'.format(w_list[wd+1])\n",
    "    return message"
   ]
  },
  {
   "cell_type": "code",
   "execution_count": 4,
   "metadata": {
    "scrolled": true
   },
   "outputs": [
    {
     "name": "stdout",
     "output_type": "stream",
     "text": [
      "['2020-05-23'] (['今日'])\n",
      "['晴のち曇']\n",
      "['null'] ['null']\n",
      "['2020-05-23', '2020-05-24'] (['今日', '明日'])\n",
      "['晴のち曇', '晴時々曇']\n",
      "['null', '最高気温26℃'] ['null', '最低気温18℃']\n",
      "['2020-05-23', '2020-05-24', '2020-05-25'] (['今日', '明日', '明後日'])\n",
      "['晴のち曇', '晴時々曇', '曇時々晴']\n",
      "['null', '最高気温26℃', 'null'] ['null', '最低気温18℃', 'null']\n"
     ]
    }
   ],
   "source": [
    "def forecast_API(): \n",
    "    #livedoor tenki_APIのデータ取得\n",
    "    base_url= 'http://weather.livedoor.com/forecast/webservice/json/v1'\n",
    "    payload = {'city': '230010'}#愛知県の天気\n",
    "    response = requests.get(base_url, params=payload )  # ベースURL + クエリでGET\n",
    "    json_data = json.loads(response.content)  # json_dataにレスポンスを辞書型で代入\n",
    "    tenki_data = requests.get(base_url, params=payload).json()\n",
    "    titile=format(json_data['title'])\n",
    "\n",
    "    #\n",
    "    date=[]\n",
    "    dateLabel=[]\n",
    "    telop=[]\n",
    "    tem_max=[]\n",
    "    tem_min=[]\n",
    "\n",
    "    for forecast in json_data['forecasts']:  # 'forecasts'内は配列になっているのでループ処理\n",
    "        date.append(forecast['date'])  # 予報日(yyyy-mm-dd)\n",
    "        dateLabel.append( forecast['dateLabel']) # 予報日\n",
    "        print('{0} ({1})'.format(date, dateLabel))  # 予報日の表示\n",
    "        telop.append(forecast['telop'])\n",
    "        print('{0}'.format(telop)) \n",
    "        t_max = forecast['temperature'].get('max')  # 'max'の値がnullの場合があるのでgetメソッド\n",
    "        t_min = forecast['temperature'].get('min')  # 'min'の値がnullの場合があるのでgetメソッド\n",
    "        if t_max is not None and t_min is not None:  # 'max', 'min'の値がNoneじゃなかった場合の処理\n",
    "            tem_max.append('最高気温{0}℃'.format(t_max['celsius']))\n",
    "            tem_min.append( '最低気温{0}℃'.format(t_min['celsius']))\n",
    "        else:\n",
    "            tem_max.append(\"null\")\n",
    "            tem_min.append( \"null\")\n",
    "        print(tem_max,tem_min)\n",
    "        message='\\n{0}\\n{1}\\n{2}\\n{3}\\n{4}\\n{5}'.format(titile,date[1],dateLabel[1],telop[1],tem_max[1],tem_min[1])\n",
    "        return message"
   ]
  },
  {
   "cell_type": "code",
   "execution_count": 10,
   "metadata": {
    "scrolled": false
   },
   "outputs": [],
   "source": [
    "def LINE1():#LINE  message_tenki\n",
    "    LINE_tenki=LINE_notify(access_token=access_token_tenki)\n",
    "    message1=forecast_API()\n",
    "    if  \"雨\" in telop[1]: #特定の文字列が含まれるか  $$ in &&\n",
    "        message1= message1+'\\n'+\"********************************\"\n",
    "        message1= message1+'\\n'+\"明日は雨予報です。傘を忘れずに！\"\n",
    "        message1= message1+'\\n'+\"********************************\"\n",
    "    LINE_tenki.sent(message1)\n",
    "\n",
    "def LINE2():\n",
    "    #LINE_message_gomisute\n",
    "    LINE_gomi=LINE_notify(access_token=access_token_gomi)\n",
    "    message2='\\n'+GOMISUTE()\n",
    "    LINE_gomi.sent(message2)"
   ]
  },
  {
   "cell_type": "code",
   "execution_count": 11,
   "metadata": {
    "scrolled": false
   },
   "outputs": [
    {
     "ename": "NameError",
     "evalue": "name 'schedule' is not defined",
     "output_type": "error",
     "traceback": [
      "\u001b[0;31m---------------------------------------------------------------------------\u001b[0m",
      "\u001b[0;31mNameError\u001b[0m                                 Traceback (most recent call last)",
      "\u001b[0;32m<ipython-input-11-d25251c3747a>\u001b[0m in \u001b[0;36m<module>\u001b[0;34m\u001b[0m\n\u001b[1;32m      6\u001b[0m \u001b[0;34m\u001b[0m\u001b[0m\n\u001b[1;32m      7\u001b[0m \u001b[0;31m# 毎日10時30分に実行\u001b[0m\u001b[0;34m\u001b[0m\u001b[0;34m\u001b[0m\u001b[0;34m\u001b[0m\u001b[0m\n\u001b[0;32m----> 8\u001b[0;31m \u001b[0mschedule\u001b[0m\u001b[0;34m.\u001b[0m\u001b[0mevery\u001b[0m\u001b[0;34m(\u001b[0m\u001b[0;34m)\u001b[0m\u001b[0;34m.\u001b[0m\u001b[0mday\u001b[0m\u001b[0;34m.\u001b[0m\u001b[0mat\u001b[0m\u001b[0;34m(\u001b[0m\u001b[0;34m\"10:30\"\u001b[0m\u001b[0;34m)\u001b[0m\u001b[0;34m.\u001b[0m\u001b[0mdo\u001b[0m\u001b[0;34m(\u001b[0m\u001b[0mmain\u001b[0m\u001b[0;34m)\u001b[0m\u001b[0;34m\u001b[0m\u001b[0;34m\u001b[0m\u001b[0m\n\u001b[0m\u001b[1;32m      9\u001b[0m \u001b[0;34m\u001b[0m\u001b[0m\n\u001b[1;32m     10\u001b[0m \u001b[0;32mwhile\u001b[0m \u001b[0;32mTrue\u001b[0m\u001b[0;34m:\u001b[0m\u001b[0;34m\u001b[0m\u001b[0;34m\u001b[0m\u001b[0m\n",
      "\u001b[0;31mNameError\u001b[0m: name 'schedule' is not defined"
     ]
    }
   ],
   "source": [
    "#maiin    \n",
    "# 毎日22時00分に実行\n",
    "schedule.every().day.at(\"22:30\").do(LINE1())\n",
    "schedule.every().day.at(\"22:30\").do(LINE2())\n",
    "\n",
    "while True:\n",
    "    schedule.run_pending()\n",
    "    time.sleep(1)"
   ]
  },
  {
   "cell_type": "code",
   "execution_count": 14,
   "metadata": {},
   "outputs": [
    {
     "ename": "SyntaxError",
     "evalue": "invalid syntax (<ipython-input-14-0ea3dcc5e143>, line 1)",
     "output_type": "error",
     "traceback": [
      "\u001b[0;36m  File \u001b[0;32m\"<ipython-input-14-0ea3dcc5e143>\"\u001b[0;36m, line \u001b[0;32m1\u001b[0m\n\u001b[0;31m    jupyter nbconvert --to script MIZUTANI_Oshirase.ipynb\u001b[0m\n\u001b[0m                    ^\u001b[0m\n\u001b[0;31mSyntaxError\u001b[0m\u001b[0;31m:\u001b[0m invalid syntax\n"
     ]
    }
   ],
   "source": [
    "jupyter nbconvert --to script MIZUTANI_Oshirase.ipynb"
   ]
  },
  {
   "cell_type": "code",
   "execution_count": null,
   "metadata": {},
   "outputs": [],
   "source": []
  }
 ],
 "metadata": {
  "kernelspec": {
   "display_name": "Python 3",
   "language": "python",
   "name": "python3"
  },
  "language_info": {
   "codemirror_mode": {
    "name": "ipython",
    "version": 3
   },
   "file_extension": ".py",
   "mimetype": "text/x-python",
   "name": "python",
   "nbconvert_exporter": "python",
   "pygments_lexer": "ipython3",
   "version": "3.7.7-final"
  }
 },
 "nbformat": 4,
 "nbformat_minor": 2
}