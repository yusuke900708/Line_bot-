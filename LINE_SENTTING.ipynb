{
 "cells": [
  {
   "cell_type": "code",
   "execution_count": 1,
   "metadata": {
    "scrolled": true
   },
   "outputs": [],
   "source": [
    "import requests"
   ]
  },
  {
   "cell_type": "code",
   "execution_count": 2,
   "metadata": {},
   "outputs": [],
   "source": [
    "url = \"https://notify-api.line.me/api/notify\"\n",
    "access_token = 'BC9YMpFXnczc8SGjiC00WibBPj5ArfBz8hY3ENw8nVi'\n",
    "headers = {'Authorization': 'Bearer ' + access_token}"
   ]
  },
  {
   "cell_type": "code",
   "execution_count": 3,
   "metadata": {},
   "outputs": [],
   "source": [
    "message = 'HI! HELLO WORLD!'\n",
    "payload = {'message': message}\n",
    "r = requests.post(url, headers=headers, params=payload,)"
   ]
  },
  {
   "cell_type": "code",
   "execution_count": 8,
   "metadata": {},
   "outputs": [],
   "source": [
    "message = 'えちえち'\n",
    "payload = {\n",
    "    'message': message,\n",
    "    'stickerPackageId': 1,\n",
    "    'stickerId': 10,\n",
    "    }\n",
    "r = requests.post(url, headers=headers, params=payload,)"
   ]
  },
  {
   "cell_type": "code",
   "execution_count": null,
   "metadata": {},
   "outputs": [],
   "source": []
  },
  {
   "cell_type": "code",
   "execution_count": null,
   "metadata": {},
   "outputs": [],
   "source": [
    "line_notify_bot.py\n",
    "import requests\n",
    "\n",
    "\n",
    "class LINENotifyBot:\n",
    "    API_URL = 'https://notify-api.line.me/api/notify'\n",
    "    def __init__(self, access_token):\n",
    "        self.__headers = {'Authorization': 'Bearer ' + access_token}\n",
    "\n",
    "    def send(\n",
    "            self, message,\n",
    "            image=None, sticker_package_id=None, sticker_id=None,\n",
    "            ):\n",
    "        payload = {\n",
    "            'message': message,\n",
    "            'stickerPackageId': sticker_package_id,\n",
    "            'stickerId': sticker_id,\n",
    "            }\n",
    "        files = {}\n",
    "        if image != None:\n",
    "            files = {'imageFile': open(image, 'rb')}\n",
    "        r = requests.post(\n",
    "            LINENotifyBot.API_URL,\n",
    "            headers=self.__headers,\n",
    "            data=payload,\n",
    "            files=files,\n",
    "            )\n",
    "実行は次のようになります。\n",
    "from line_notify_bot import LINENotifyBot\n",
    "\n",
    "bot = LINENotifyBot(access_token='Your Access Token')\n",
    "\n",
    "bot.send(\n",
    "    message='Write Your Message',\n",
    "    image='test.png',  # png or jpg\n",
    "    sticker_package_id=1,\n",
    "    sticker_id=13,\n",
    "    )\n"
   ]
  }
 ],
 "metadata": {
  "kernelspec": {
   "display_name": "Python 3",
   "language": "python",
   "name": "python3"
  },
  "language_info": {
   "codemirror_mode": {
    "name": "ipython",
    "version": 3
   },
   "file_extension": ".py",
   "mimetype": "text/x-python",
   "name": "python",
   "nbconvert_exporter": "python",
   "pygments_lexer": "ipython3",
   "version": "3.7.4"
  }
 },
 "nbformat": 4,
 "nbformat_minor": 2
}
